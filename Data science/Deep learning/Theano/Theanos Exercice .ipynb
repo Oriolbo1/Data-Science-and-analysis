{
 "cells": [
  {
   "cell_type": "markdown",
   "metadata": {},
   "source": [
    "In this document, I will do just a random Tehano exercice. \n",
    "\n",
    "I will create random data and using theano I will obtain the values for W_0 and W_1\n",
    "\n",
    "\n",
    "To create de variables I will use the following functions\n",
    "\n",
    "trX = np.linspace(-1, 1, 101)\n",
    "\n",
    "trY = np.linspace(-1, 1, 101)\n",
    "\n",
    "\n",
    "and I will change the trY with the following code.\n",
    "\n",
    "for i in range(len(trY)):\n",
    "\n",
    "    trY[i] = math.log(1 + 0.5 * abs(trX[i])) + trX[i] / 3 + np.random.randn() * 0.033\n",
    "\n",
    "Now using Theano I will search for the values of W_0 and W_1\n",
    "\n"
   ]
  },
  {
   "cell_type": "code",
   "execution_count": 2,
   "metadata": {},
   "outputs": [],
   "source": [
    "# Cargo las librerias necesarias\n",
    "\n",
    "import theano\n",
    "import theano.tensor as T\n",
    "import numpy as np\n",
    "import math\n",
    "import seaborn as sns\n"
   ]
  },
  {
   "cell_type": "code",
   "execution_count": 3,
   "metadata": {},
   "outputs": [],
   "source": [
    "\n",
    "trX = np.linspace(-1, 1, 101)\n",
    "trY = np.linspace(-1, 1, 101)\n",
    "\n",
    "\n",
    "for i in range(len(trY)):\n",
    "\n",
    "    trY[i] = math.log(1 + 0.5 * abs(trX[i])) + trX[i] / 3 + np.random.randn() * 0.033\n",
    "\n",
    "#This next line of code its just to examine the distribution of the data. \n",
    "#Since it is not necessary for the exercise, I will disactivate the line. \n",
    "#sns.scatterplot(trX,trY)  \n",
    "  \n"
   ]
  },
  {
   "cell_type": "code",
   "execution_count": 4,
   "metadata": {},
   "outputs": [],
   "source": [
    "#Now I create the dependent variable and the independent one\n",
    "X = T.scalar()\n",
    "Y = T.scalar()\n",
    "\n",
    "#Now I create the model\n",
    "def model(X,w_0, w_1):\n",
    "    return T.log(1+w_0*abs(X))+(w_1*X)\n",
    "\n",
    "\n",
    "#Now I create the \"shared\" variables that are the ones that will be updated and \n",
    "#with the updated will make the model more and more reliable reducing the cost of it.\n",
    "\n",
    "w_0 = theano.shared(np.asarray(0., dtype = theano.config.floatX))\n",
    "w_1 = theano.shared(np.asarray(0., dtype = theano.config.floatX))\n"
   ]
  },
  {
   "cell_type": "code",
   "execution_count": 5,
   "metadata": {},
   "outputs": [],
   "source": [
    "\n",
    "#I will not create the variable that will contain the variables of the model.\n",
    "#Later in this exercise I will refer to this new variable with the function \"theano.function\"\n",
    "\n",
    "y = model(X, w_0, w_1)\n",
    "\n",
    "\n",
    "\n",
    "#I will now create the variable \"cost\"\n",
    "cost     = T.mean(T.sqr(y - Y))\n",
    "\n",
    "#Now I will create the gradient that will depend on the cost and on the value of the variable W_0\n",
    "gradient_w_0 = T.grad(cost = cost, wrt = w_0)\n",
    "#Now I will create the gradient that will depend on the cost and on the value of the variable W_1\n",
    "gradient_w_1 = T.grad(cost = cost, wrt = w_1)\n",
    "\n",
    "\n",
    "#I proceed to create the \"update\" function that will enable the two gradients to get updated, \n",
    "#reducing the \"cost\" in every iteration\n",
    "\n",
    "¡updates  = [[w_0, w_0 - gradient_w_0 * 0.01], [w_1, w_1 - gradient_w_1 * 0.01]]\n",
    "\n",
    "\n",
    "#I will now create the function \"train\" that will train the model calling the created model \n",
    "#updating with the variable \"update\"\n",
    "\n",
    "train = theano.function(inputs = [X, Y], outputs = cost, updates = updates)\n",
    "\n"
   ]
  },
  {
   "cell_type": "code",
   "execution_count": 8,
   "metadata": {},
   "outputs": [
    {
     "name": "stdout",
     "output_type": "stream",
     "text": [
      "With step 0 the value of W_0 is 0.5086819866872535 and the value of W_1 is 0.3405463326586115 cost is 2.0883963790420017e-05\n",
      "With step 1 the value of W_0 is 0.5086819866872535 and the value of W_1 is 0.3405463326586115 cost is 2.0883963790420017e-05\n",
      "With step 2 the value of W_0 is 0.5086819866872535 and the value of W_1 is 0.3405463326586115 cost is 2.0883963790420017e-05\n",
      "With step 3 the value of W_0 is 0.5086819866872535 and the value of W_1 is 0.3405463326586115 cost is 2.0883963790420017e-05\n",
      "With step 4 the value of W_0 is 0.5086819866872535 and the value of W_1 is 0.3405463326586115 cost is 2.0883963790420017e-05\n",
      "With step 5 the value of W_0 is 0.5086819866872535 and the value of W_1 is 0.3405463326586115 cost is 2.0883963790420017e-05\n",
      "With step 6 the value of W_0 is 0.5086819866872535 and the value of W_1 is 0.3405463326586115 cost is 2.0883963790420017e-05\n",
      "With step 7 the value of W_0 is 0.5086819866872535 and the value of W_1 is 0.3405463326586115 cost is 2.0883963790420017e-05\n",
      "With step 8 the value of W_0 is 0.5086819866872535 and the value of W_1 is 0.3405463326586115 cost is 2.0883963790420017e-05\n",
      "With step 9 the value of W_0 is 0.5086819866872535 and the value of W_1 is 0.3405463326586115 cost is 2.0883963790420017e-05\n",
      "With step 10 the value of W_0 is 0.5086819866872535 and the value of W_1 is 0.3405463326586115 cost is 2.0883963790420017e-05\n",
      "With step 11 the value of W_0 is 0.5086819866872535 and the value of W_1 is 0.3405463326586115 cost is 2.0883963790420017e-05\n",
      "With step 12 the value of W_0 is 0.5086819866872535 and the value of W_1 is 0.3405463326586115 cost is 2.0883963790420017e-05\n",
      "With step 13 the value of W_0 is 0.5086819866872535 and the value of W_1 is 0.3405463326586115 cost is 2.0883963790420017e-05\n",
      "With step 14 the value of W_0 is 0.5086819866872535 and the value of W_1 is 0.3405463326586115 cost is 2.0883963790420017e-05\n",
      "With step 15 the value of W_0 is 0.5086819866872535 and the value of W_1 is 0.3405463326586115 cost is 2.0883963790420017e-05\n",
      "With step 16 the value of W_0 is 0.5086819866872535 and the value of W_1 is 0.3405463326586115 cost is 2.0883963790420017e-05\n",
      "With step 17 the value of W_0 is 0.5086819866872535 and the value of W_1 is 0.3405463326586115 cost is 2.0883963790420017e-05\n",
      "With step 18 the value of W_0 is 0.5086819866872535 and the value of W_1 is 0.3405463326586115 cost is 2.0883963790420017e-05\n",
      "With step 19 the value of W_0 is 0.5086819866872535 and the value of W_1 is 0.3405463326586115 cost is 2.0883963790420017e-05\n",
      "With step 20 the value of W_0 is 0.5086819866872535 and the value of W_1 is 0.3405463326586115 cost is 2.0883963790420017e-05\n",
      "With step 21 the value of W_0 is 0.5086819866872535 and the value of W_1 is 0.3405463326586115 cost is 2.0883963790420017e-05\n",
      "With step 22 the value of W_0 is 0.5086819866872535 and the value of W_1 is 0.3405463326586115 cost is 2.0883963790420017e-05\n",
      "With step 23 the value of W_0 is 0.5086819866872535 and the value of W_1 is 0.3405463326586115 cost is 2.0883963790420017e-05\n",
      "With step 24 the value of W_0 is 0.5086819866872535 and the value of W_1 is 0.3405463326586115 cost is 2.0883963790420017e-05\n",
      "With step 25 the value of W_0 is 0.5086819866872535 and the value of W_1 is 0.3405463326586115 cost is 2.0883963790420017e-05\n",
      "With step 26 the value of W_0 is 0.5086819866872535 and the value of W_1 is 0.3405463326586115 cost is 2.0883963790420017e-05\n",
      "With step 27 the value of W_0 is 0.5086819866872535 and the value of W_1 is 0.3405463326586115 cost is 2.0883963790420017e-05\n",
      "With step 28 the value of W_0 is 0.5086819866872535 and the value of W_1 is 0.3405463326586115 cost is 2.0883963790420017e-05\n",
      "With step 29 the value of W_0 is 0.5086819866872535 and the value of W_1 is 0.3405463326586115 cost is 2.0883963790420017e-05\n",
      "With step 30 the value of W_0 is 0.5086819866872535 and the value of W_1 is 0.3405463326586115 cost is 2.0883963790420017e-05\n",
      "With step 31 the value of W_0 is 0.5086819866872535 and the value of W_1 is 0.3405463326586115 cost is 2.0883963790420017e-05\n",
      "With step 32 the value of W_0 is 0.5086819866872535 and the value of W_1 is 0.3405463326586115 cost is 2.0883963790420017e-05\n",
      "With step 33 the value of W_0 is 0.5086819866872535 and the value of W_1 is 0.3405463326586115 cost is 2.0883963790420017e-05\n",
      "With step 34 the value of W_0 is 0.5086819866872535 and the value of W_1 is 0.3405463326586115 cost is 2.0883963790420017e-05\n",
      "With step 35 the value of W_0 is 0.5086819866872535 and the value of W_1 is 0.3405463326586115 cost is 2.0883963790420017e-05\n",
      "With step 36 the value of W_0 is 0.5086819866872535 and the value of W_1 is 0.3405463326586115 cost is 2.0883963790420017e-05\n",
      "With step 37 the value of W_0 is 0.5086819866872535 and the value of W_1 is 0.3405463326586115 cost is 2.0883963790420017e-05\n",
      "With step 38 the value of W_0 is 0.5086819866872535 and the value of W_1 is 0.3405463326586115 cost is 2.0883963790420017e-05\n",
      "With step 39 the value of W_0 is 0.5086819866872535 and the value of W_1 is 0.3405463326586115 cost is 2.0883963790420017e-05\n",
      "With step 40 the value of W_0 is 0.5086819866872535 and the value of W_1 is 0.3405463326586115 cost is 2.0883963790420017e-05\n",
      "With step 41 the value of W_0 is 0.5086819866872535 and the value of W_1 is 0.3405463326586115 cost is 2.0883963790420017e-05\n",
      "With step 42 the value of W_0 is 0.5086819866872535 and the value of W_1 is 0.3405463326586115 cost is 2.0883963790420017e-05\n",
      "With step 43 the value of W_0 is 0.5086819866872535 and the value of W_1 is 0.3405463326586115 cost is 2.0883963790420017e-05\n",
      "With step 44 the value of W_0 is 0.5086819866872535 and the value of W_1 is 0.3405463326586115 cost is 2.0883963790420017e-05\n",
      "With step 45 the value of W_0 is 0.5086819866872535 and the value of W_1 is 0.3405463326586115 cost is 2.0883963790420017e-05\n",
      "With step 46 the value of W_0 is 0.5086819866872535 and the value of W_1 is 0.3405463326586115 cost is 2.0883963790420017e-05\n",
      "With step 47 the value of W_0 is 0.5086819866872535 and the value of W_1 is 0.3405463326586115 cost is 2.0883963790420017e-05\n",
      "With step 48 the value of W_0 is 0.5086819866872535 and the value of W_1 is 0.3405463326586115 cost is 2.0883963790420017e-05\n",
      "With step 49 the value of W_0 is 0.5086819866872535 and the value of W_1 is 0.3405463326586115 cost is 2.0883963790420017e-05\n",
      "With step 50 the value of W_0 is 0.5086819866872535 and the value of W_1 is 0.3405463326586115 cost is 2.0883963790420017e-05\n"
     ]
    }
   ],
   "source": [
    "#Finally, I will create a loop with 100 iteration that will act on the trX and trY variables \n",
    "#With the variable \"coste\" I indicate to the loop that has to apply the function train with the \n",
    "#different variables with trX and trY as inputs\n",
    "\n",
    "\n",
    "for i in range(51):\n",
    "    for x, y in zip(trX, trY):\n",
    "        coste = train(x, y)\n",
    "    print('With step', i, 'the value of W_0 is', w_0.get_value(),\n",
    "           'and the value of W_1 is', w_1.get_value(), 'cost is', coste)        \n",
    "        "
   ]
  },
  {
   "cell_type": "code",
   "execution_count": 9,
   "metadata": {},
   "outputs": [
    {
     "name": "stdout",
     "output_type": "stream",
     "text": [
      "The final W_0 is: 0.5086819866872535\n",
      "The final W_1 is: 0.3405463326586115\n",
      "The final cost is 2.0883963790420017e-05\n"
     ]
    }
   ],
   "source": [
    "#The results are:\n",
    "print(\"The final W_0 is:\", w_0.get_value())\n",
    "print(\"The final W_1 is:\", w_1.get_value())\n",
    "print(\"The final cost is\",coste)\n",
    "\n",
    "\n",
    "#It is possible to see that the cost is almost 0 and thus, the model did a great job"
   ]
  },
  {
   "cell_type": "code",
   "execution_count": null,
   "metadata": {},
   "outputs": [],
   "source": []
  }
 ],
 "metadata": {
  "kernelspec": {
   "display_name": "Python 3",
   "language": "python",
   "name": "python3"
  },
  "language_info": {
   "codemirror_mode": {
    "name": "ipython",
    "version": 3
   },
   "file_extension": ".py",
   "mimetype": "text/x-python",
   "name": "python",
   "nbconvert_exporter": "python",
   "pygments_lexer": "ipython3",
   "version": "3.7.6"
  }
 },
 "nbformat": 4,
 "nbformat_minor": 2
}
