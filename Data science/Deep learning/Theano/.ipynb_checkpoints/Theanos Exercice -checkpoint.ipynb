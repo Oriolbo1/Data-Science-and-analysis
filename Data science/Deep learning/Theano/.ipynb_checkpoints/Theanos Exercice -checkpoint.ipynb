{
 "cells": [
  {
   "cell_type": "markdown",
   "metadata": {},
   "source": [
    "In this document, I will do just a random Tehano exercice. \n",
    "\n",
    "I will create random data and using theano I will obtain the values for W_0 and W_1\n",
    "\n",
    "\n",
    "To create de variables I will use the following functions\n",
    "\n",
    "trX = np.linspace(-1, 1, 101)\n",
    "\n",
    "trY = np.linspace(-1, 1, 101)\n",
    "\n",
    "\n",
    "and I will change the trY with the following code.\n",
    "\n",
    "for i in range(len(trY)):\n",
    "\n",
    "    trY[i] = math.log(1 + 0.5 * abs(trX[i])) + trX[i] / 3 + np.random.randn() * 0.033\n",
    "\n",
    "Now using Theano I will search for the values of W_0 and W_1\n",
    "\n"
   ]
  },
  {
   "cell_type": "code",
   "execution_count": 3,
   "metadata": {},
   "outputs": [],
   "source": [
    "# Cargo las librerias necesarias\n",
    "\n",
    "import theano\n",
    "import theano.tensor as T\n",
    "import numpy as np\n",
    "import math\n",
    "import seaborn as sns\n"
   ]
  },
  {
   "cell_type": "code",
   "execution_count": 4,
   "metadata": {},
   "outputs": [],
   "source": [
    "\n",
    "trX = np.linspace(-1, 1, 101)\n",
    "trY = np.linspace(-1, 1, 101)\n",
    "\n",
    "\n",
    "for i in range(len(trY)):\n",
    "\n",
    "    trY[i] = math.log(1 + 0.5 * abs(trX[i])) + trX[i] / 3 + np.random.randn() * 0.033\n",
    "\n",
    "#This next line of code its just to examine the distribution of the data. \n",
    "#Since it is not necessary for the exercise, I will disactivate the line. \n",
    "#sns.scatterplot(trX,trY)  \n",
    "  \n"
   ]
  },
  {
   "cell_type": "code",
   "execution_count": 5,
   "metadata": {},
   "outputs": [],
   "source": [
    "#Now I create the dependent variable and the independent one\n",
    "X = T.scalar()\n",
    "Y = T.scalar()\n",
    "\n",
    "#Now I create the model\n",
    "def model(X,w_0, w_1):\n",
    "    return T.log(1+w_0*abs(X))+(w_1*X)\n",
    "\n",
    "\n",
    "#Now I create the \"shared\" variables that are the ones that will be updated and \n",
    "#with the updated will make the model more and more reliable reducing the cost of it.\n",
    "\n",
    "w_0 = theano.shared(np.asarray(0., dtype = theano.config.floatX))\n",
    "w_1 = theano.shared(np.asarray(0., dtype = theano.config.floatX))\n"
   ]
  },
  {
   "cell_type": "code",
   "execution_count": 7,
   "metadata": {},
   "outputs": [],
   "source": [
    "\n",
    "#I will now create the variable that will contain the variables of the model.\n",
    "#Later in this exercise I will refer to this new variable with the function \"theano.function\"\n",
    "\n",
    "y = model(X, w_0, w_1)\n",
    "\n",
    "\n",
    "\n",
    "#I will now create the variable \"cost\"\n",
    "cost     = T.mean(T.sqr(y - Y))\n",
    "\n",
    "#Now I will create the gradient that will depend on the cost and on the value of the variable W_0\n",
    "gradient_w_0 = T.grad(cost = cost, wrt = w_0)\n",
    "#Now I will create the gradient that will depend on the cost and on the value of the variable W_1\n",
    "gradient_w_1 = T.grad(cost = cost, wrt = w_1)\n",
    "\n",
    "\n",
    "#I proceed to create the \"update\" function that will enable the two gradients to get updated, \n",
    "#reducing the \"cost\" in every iteration\n",
    "\n",
    "updates  = [[w_0, w_0 - gradient_w_0 * 0.01], [w_1, w_1 - gradient_w_1 * 0.01]]\n",
    "\n",
    "\n",
    "#I will now create the function \"train\" that will train the model calling the created model \n",
    "#updating with the variable \"update\"\n",
    "\n",
    "train = theano.function(inputs = [X, Y], outputs = cost, updates = updates)\n",
    "\n"
   ]
  },
  {
   "cell_type": "code",
   "execution_count": 8,
   "metadata": {},
   "outputs": [
    {
     "name": "stdout",
     "output_type": "stream",
     "text": [
      "With step 0 the value of W_0 is 0.19991749397145595 and the value of W_1 is 0.17083802282247867 cost is 0.1167967244656485\n",
      "With step 1 the value of W_0 is 0.30567674968976294 and the value of W_1 is 0.25798560937544274 cost is 0.02680532579693454\n",
      "With step 2 the value of W_0 is 0.37006933221501775 and the value of W_1 is 0.3007449333741565 cost is 0.004866843472515601\n",
      "With step 3 the value of W_0 is 0.411611706372659 and the value of W_1 is 0.3212258797102085 cost is 0.0003170738817062214\n",
      "With step 4 the value of W_0 is 0.4391978153274845 and the value of W_1 is 0.33076556921560396 cost is 0.00014344780281449676\n",
      "With step 5 the value of W_0 is 0.4578098026674565 and the value of W_1 is 0.3350283677283721 cost is 0.0008764243928403392\n",
      "With step 6 the value of W_0 is 0.4704842937202526 and the value of W_1 is 0.3368020086918842 cost is 0.0016276366847097416\n",
      "With step 7 the value of W_0 is 0.4791643639451186 and the value of W_1 is 0.3374389709366295 cost is 0.0022144235290860277\n",
      "With step 8 the value of W_0 is 0.4851299065427529 and the value of W_1 is 0.33758376072473534 cost is 0.0026366809880762516\n",
      "With step 9 the value of W_0 is 0.48923906208790485 and the value of W_1 is 0.33753568848529325 cost is 0.002931362254085079\n",
      "With step 10 the value of W_0 is 0.49207360733887084 and the value of W_1 is 0.33742819980409533 cost is 0.0031346257897416625\n",
      "With step 11 the value of W_0 is 0.49403074546699427 and the value of W_1 is 0.3373166822649732 cost is 0.003274293028369571\n",
      "With step 12 the value of W_0 is 0.49538289468042157 and the value of W_1 is 0.33722094268711134 cost is 0.0033702053097488067\n",
      "With step 13 the value of W_0 is 0.4963174402540119 and the value of W_1 is 0.33714541098329776 cost is 0.0034361151593433775\n",
      "With step 14 the value of W_0 is 0.49696352399620825 and the value of W_1 is 0.33708850889684927 cost is 0.0034814562672004805\n",
      "With step 15 the value of W_0 is 0.4974102592029217 and the value of W_1 is 0.33704682064068847 cost is 0.003512681494440376\n",
      "With step 16 the value of W_0 is 0.49771918827855466 and the value of W_1 is 0.3370168203021895 cost is 0.003534206057678839\n",
      "With step 17 the value of W_0 is 0.49793283575266056 and the value of W_1 is 0.3369954869473366 cost is 0.0035490553290748075\n",
      "With step 18 the value of W_0 is 0.49808059549356065 and the value of W_1 is 0.3369804397980716 cost is 0.003559305884291388\n",
      "With step 19 the value of W_0 is 0.49818278980570774 and the value of W_1 is 0.33696988641704706 cost is 0.003566385344889449\n",
      "With step 20 the value of W_0 is 0.4982534711774429 and the value of W_1 is 0.3369625141376885 cost is 0.003571276526791124\n",
      "With step 21 the value of W_0 is 0.49830235756017943 and the value of W_1 is 0.3369573785732705 cost is 0.003574656779144286\n",
      "With step 22 the value of W_0 is 0.49833616977764467 and the value of W_1 is 0.3369538082910888 cost is 0.00357699333293198\n",
      "With step 23 the value of W_0 is 0.49835955605214066 and the value of W_1 is 0.33695132976792574 cost is 0.0035786086979242623\n",
      "With step 24 the value of W_0 is 0.49837573124040924 and the value of W_1 is 0.33694961092681147 cost is 0.0035797256030887428\n",
      "With step 25 the value of W_0 is 0.4983869188709639 and the value of W_1 is 0.33694841980385937 cost is 0.0035804979271446204\n",
      "With step 26 the value of W_0 is 0.4983946568419796 and the value of W_1 is 0.33694759481957737 cost is 0.003581032012486662\n",
      "With step 27 the value of W_0 is 0.4984000088424502 and the value of W_1 is 0.3369470236465502 cost is 0.003581401366055937\n",
      "With step 28 the value of W_0 is 0.4984037105761279 and the value of W_1 is 0.3369466283079691 cost is 0.003581656806158292\n",
      "With step 29 the value of W_0 is 0.4984062708954985 and the value of W_1 is 0.33694635472835077 cost is 0.003581833469725992\n",
      "With step 30 the value of W_0 is 0.4984080417506712 and the value of W_1 is 0.336946165434941 cost is 0.003581955653376805\n",
      "With step 31 the value of W_0 is 0.4984092665695624 and the value of W_1 is 0.3369460344739627 cost is 0.0035820401589214184\n",
      "With step 32 the value of W_0 is 0.49841011372020133 and the value of W_1 is 0.3369459438765944 cost is 0.0035820986058529855\n",
      "With step 33 the value of W_0 is 0.4984106996550823 and the value of W_1 is 0.336945881205742 cost is 0.0035821390300547484\n",
      "With step 34 the value of W_0 is 0.49841110491907104 and the value of W_1 is 0.33694583785479987 cost is 0.003582166989178106\n",
      "With step 35 the value of W_0 is 0.4984113852213555 and the value of W_1 is 0.3369458078687589 cost is 0.003582186326991909\n",
      "With step 36 the value of W_0 is 0.498411579093417 and the value of W_1 is 0.3369457871277057 cost is 0.0035821997019509525\n",
      "With step 37 the value of W_0 is 0.49841171318570315 and the value of W_1 is 0.33694577278153337 cost is 0.003582208952733399\n",
      "With step 38 the value of W_0 is 0.4984118059310952 and the value of W_1 is 0.33694576285867844 cost is 0.0035822153510414365\n",
      "With step 39 the value of W_0 is 0.49841187007876303 and the value of W_1 is 0.3369457559953647 cost is 0.003582219776439239\n",
      "With step 40 the value of W_0 is 0.49841191444671623 and the value of W_1 is 0.33694575124826165 cost is 0.0035822228372737086\n",
      "With step 41 the value of W_0 is 0.4984119451339614 and the value of W_1 is 0.3369457479648776 cost is 0.003582224954306741\n",
      "With step 42 the value of W_0 is 0.49841196635889834 and the value of W_1 is 0.33694574569389685 cost is 0.0035822264185580276\n",
      "With step 43 the value of W_0 is 0.4984119810391971 and the value of W_1 is 0.33694574412315653 cost is 0.0035822274313113893\n",
      "With step 44 the value of W_0 is 0.4984119911928752 and the value of W_1 is 0.3369457430367448 cost is 0.003582228131785294\n",
      "With step 45 the value of W_0 is 0.4984119982157011 and the value of W_1 is 0.3369457422853224 cost is 0.0035822286162702018\n",
      "With step 46 the value of W_0 is 0.4984120030730622 and the value of W_1 is 0.3369457417655972 cost is 0.00358222895136567\n",
      "With step 47 the value of W_0 is 0.4984120064326722 and the value of W_1 is 0.3369457414061272 cost is 0.00358222918313553\n",
      "With step 48 the value of W_0 is 0.49841200875635794 and the value of W_1 is 0.33694574115749815 cost is 0.003582229343439908\n",
      "With step 49 the value of W_0 is 0.49841201036354305 and the value of W_1 is 0.33694574098553287 cost is 0.003582229454314965\n",
      "With step 50 the value of W_0 is 0.4984120114751579 and the value of W_1 is 0.3369457408665926 cost is 0.0035822295310020662\n"
     ]
    }
   ],
   "source": [
    "#Finally, I will create a loop with 100 iteration that will act on the trX and trY variables \n",
    "#With the variable \"coste\" I indicate to the loop that has to apply the function train with the \n",
    "#different variables with trX and trY as inputs\n",
    "\n",
    "\n",
    "for i in range(51):\n",
    "    for x, y in zip(trX, trY):\n",
    "        coste = train(x, y)\n",
    "    print('With step', i, 'the value of W_0 is', w_0.get_value(),\n",
    "           'and the value of W_1 is', w_1.get_value(), 'cost is', coste)        \n",
    "        "
   ]
  },
  {
   "cell_type": "code",
   "execution_count": 9,
   "metadata": {},
   "outputs": [
    {
     "name": "stdout",
     "output_type": "stream",
     "text": [
      "The final W_0 is: 0.4984120114751579\n",
      "The final W_1 is: 0.3369457408665926\n",
      "The final cost is 0.0035822295310020662\n"
     ]
    }
   ],
   "source": [
    "#The results are:\n",
    "print(\"The final W_0 is:\", w_0.get_value())\n",
    "print(\"The final W_1 is:\", w_1.get_value())\n",
    "print(\"The final cost is\",coste)\n",
    "\n",
    "\n",
    "#It is possible to see that the cost is almost 0 and thus, the model did a great job"
   ]
  },
  {
   "cell_type": "code",
   "execution_count": null,
   "metadata": {},
   "outputs": [],
   "source": []
  }
 ],
 "metadata": {
  "kernelspec": {
   "display_name": "Python 3",
   "language": "python",
   "name": "python3"
  },
  "language_info": {
   "codemirror_mode": {
    "name": "ipython",
    "version": 3
   },
   "file_extension": ".py",
   "mimetype": "text/x-python",
   "name": "python",
   "nbconvert_exporter": "python",
   "pygments_lexer": "ipython3",
   "version": "3.7.6"
  }
 },
 "nbformat": 4,
 "nbformat_minor": 2
}
