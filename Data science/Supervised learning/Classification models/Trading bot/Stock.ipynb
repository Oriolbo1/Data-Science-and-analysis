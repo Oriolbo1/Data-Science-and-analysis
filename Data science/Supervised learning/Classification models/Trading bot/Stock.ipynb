{
 "cells": [
  {
   "cell_type": "markdown",
   "metadata": {},
   "source": [
    "# Investment/Stock trading bot"
   ]
  },
  {
   "cell_type": "markdown",
   "metadata": {},
   "source": [
    "The following code is from a Stock Market predictor that I have developed. \n",
    "The Accuracy of this predictor is 81% meaning that it predicts correctly in 81% of the cases if a certain stock's value will increase or decrease. \n",
    "\n",
    "I hope you don't mind that I keep the variables that I have used as a secret, I have spent many months worrking on this project and now, I would like to obtain the benefits of this work. Thank you for your understanding :)\n",
    "\n",
    "Oriol-Boris Monjo Farré"
   ]
  },
  {
   "cell_type": "markdown",
   "metadata": {},
   "source": [
    "I start by importing the libraries."
   ]
  },
  {
   "cell_type": "code",
   "execution_count": 57,
   "metadata": {},
   "outputs": [],
   "source": [
    "from collections import Counter\n",
    "import numpy as np \n",
    "import pandas as pd \n",
    "from sklearn.ensemble import RandomForestClassifier\n",
    "from sklearn.model_selection import train_test_split\n",
    "from sklearn.utils.validation import column_or_1d\n",
    "from sklearn.model_selection import cross_val_score\n",
    "from sklearn.preprocessing import StandardScaler, LabelEncoder"
   ]
  },
  {
   "cell_type": "markdown",
   "metadata": {},
   "source": [
    "Now I import the data that I have already have colected, cleaned and structured. I also replace the \"Inf\" values and drop NA's."
   ]
  },
  {
   "cell_type": "code",
   "execution_count": 58,
   "metadata": {},
   "outputs": [],
   "source": [
    "df1=pd.read_csv(\"data_training1.csv\",index_col=0)\n",
    "df2=pd.read_csv(\"data_training2.csv\",index_col=0)\n",
    "df = pd.concat([df1,df2])\n",
    "df=df.replace([np.inf,-np.inf],np.nan)\n",
    "df = df.dropna(how='any',axis=0)  "
   ]
  },
  {
   "cell_type": "markdown",
   "metadata": {},
   "source": [
    "From all the data that I have I select 1,500,000 registers and I determine which are the most interesting values. \n",
    "I already know the variables that are more important, because prior to this machne learning project, I have already done a statistical analysis of the data.\n",
    "\n",
    "I define the X and Y variables and train the model. I have choosen the RandomForestClassifier because, the process that this classifier has to determine if a stock's price will grow or not is very simillar to the procedures that expert traders use. "
   ]
  },
  {
   "cell_type": "code",
   "execution_count": 60,
   "metadata": {},
   "outputs": [
    {
     "data": {
      "text/plain": [
       "RandomForestClassifier(bootstrap=True, ccp_alpha=0.0, class_weight=None,\n",
       "                       criterion='gini', max_depth=None, max_features='auto',\n",
       "                       max_leaf_nodes=None, max_samples=None,\n",
       "                       min_impurity_decrease=0.0, min_impurity_split=None,\n",
       "                       min_samples_leaf=1, min_samples_split=2,\n",
       "                       min_weight_fraction_leaf=0.0, n_estimators=200,\n",
       "                       n_jobs=None, oob_score=False, random_state=None,\n",
       "                       verbose=0, warm_start=False)"
      ]
     },
     "execution_count": 60,
     "metadata": {},
     "output_type": "execute_result"
    }
   ],
   "source": [
    "df_train=df.sample(n = 1500000,random_state=5) \n",
    "\n",
    "variables=[6,9,12,15,17,-5,-4,-3,-2,-1]\n",
    "\n",
    "X = df_train.iloc[:,variables]\n",
    "y = df_train[\"Target\"].values\n",
    "y2 = column_or_1d(y, warn=True)\n",
    "\n",
    "sc=StandardScaler()\n",
    "X=sc.fit_transform(X)\n",
    "\n",
    "X_train, X_test, y_train, y_test =train_test_split(X,y2,test_size=0.25)\n",
    "\n",
    "clf=RandomForestClassifier(criterion=\"gini\",n_estimators=200)\n",
    "clf.fit(X_train,y_train)"
   ]
  },
  {
   "cell_type": "markdown",
   "metadata": {},
   "source": [
    "Finally I apply some techniques to see the accuracy of the model."
   ]
  },
  {
   "cell_type": "code",
   "execution_count": 61,
   "metadata": {},
   "outputs": [
    {
     "name": "stdout",
     "output_type": "stream",
     "text": [
      "Accuracy: 0.8111893333333333\n",
      "Predictions     -1       0      1\n",
      "Reality                          \n",
      "-1           44496   30428   4375\n",
      " 0            5596  227941   2682\n",
      " 1            6395   21328  31759\n"
     ]
    }
   ],
   "source": [
    "Accuracy= clf.score(X_test, y_test)\n",
    "print(\"Accuracy:\", Accuracy)\n",
    "predictions=clf.predict(X_test)\n",
    "\n",
    "print(pd.crosstab(y_test,predictions,rownames=[\"Reality\"],colnames=[\"Predictions\"]))\n"
   ]
  },
  {
   "cell_type": "markdown",
   "metadata": {},
   "source": [
    "Understanding the results: \n",
    "    -1 means that the stock's price will strongly decrease, \n",
    "    0 means that the price will be more or less the same, \n",
    "    1 means that the price will increase notoriously."
   ]
  }
 ],
 "metadata": {
  "kernelspec": {
   "display_name": "Python 3",
   "language": "python",
   "name": "python3"
  }
 },
 "nbformat": 4,
 "nbformat_minor": 4
}
