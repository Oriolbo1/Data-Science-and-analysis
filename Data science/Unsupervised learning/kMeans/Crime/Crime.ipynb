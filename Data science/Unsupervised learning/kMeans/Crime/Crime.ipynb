{
 "cells": [
  {
   "cell_type": "markdown",
   "metadata": {},
   "source": [
    "\n",
    "In the csv \"crime_data.csv are is information about the number of crimes for every 100000 persons in every one of the states of USA. There is also the percentage of urban population. \n",
    "The Crimes have been gouped by \"assault, murder and rape\". \n",
    "\n",
    "I want to find the different clusters that exist. In that way it will be possible to determine which states are similar. This is a useful informaton because if a certain a policy has has a good impact in a State, it can also work in an other similar state. \n"
   ]
  },
  {
   "cell_type": "code",
   "execution_count": 7,
   "metadata": {},
   "outputs": [
    {
     "name": "stdout",
     "output_type": "stream",
     "text": [
      "        State  Murder  Assault  UrbanPop  Rape\n",
      "0     Alabama    13.2      236        58  21.2\n",
      "1      Alaska    10.0      263        48  44.5\n",
      "2     Arizona     8.1      294        80  31.0\n",
      "3    Arkansas     8.8      190        50  19.5\n",
      "4  California     9.0      276        91  40.6\n"
     ]
    }
   ],
   "source": [
    "#I start importin the libraries, the data and taking a look at it.\n",
    "import pandas as pd\n",
    "import matplotlib.pyplot as plt \n",
    "from scipy.cluster.hierarchy import dendrogram, linkage\n",
    "import numpy as np\n",
    "\n",
    "data=pd.read_csv(\"crime_data.csv\")\n",
    "print(data.head())"
   ]
  },
  {
   "cell_type": "markdown",
   "metadata": {},
   "source": [
    "I will start droping the \"State\" variable, I do that for 2 reasons: \n",
    "    \n",
    "    -It's a categorical variable, and the algorithm of K-means is not good with categorical data.\n",
    "    -In the exercice, I'm asked to group the data by state and since the State is the solucion I don't want it to influence the model."
   ]
  },
  {
   "cell_type": "code",
   "execution_count": 8,
   "metadata": {},
   "outputs": [
    {
     "name": "stdout",
     "output_type": "stream",
     "text": [
      "        State  Murder  Assault  UrbanPop  Rape\n",
      "0     Alabama    13.2      236        58  21.2\n",
      "1      Alaska    10.0      263        48  44.5\n",
      "2     Arizona     8.1      294        80  31.0\n",
      "3    Arkansas     8.8      190        50  19.5\n",
      "4  California     9.0      276        91  40.6\n"
     ]
    }
   ],
   "source": [
    "df=data.drop([\"State\"],axis=1)\n",
    "print(data.head())"
   ]
  },
  {
   "cell_type": "markdown",
   "metadata": {},
   "source": [
    "The different columns show great diferences of measure, and this is a problem for the model, since it will tend to give more importance to the bigger numbers. Furthermore the feature UrbanPop is a percentage and the other features are not and this can also be a problem. \n",
    "\n",
    "In order to solve those problems, I can apply the \"StandardScaler\" fuction that will scalate the numbers so all of them are in the same scale."
   ]
  },
  {
   "cell_type": "code",
   "execution_count": 9,
   "metadata": {},
   "outputs": [
    {
     "name": "stdout",
     "output_type": "stream",
     "text": [
      "        State  Murder  Assault  UrbanPop  Rape\n",
      "0     Alabama    13.2      236        58  21.2\n",
      "1      Alaska    10.0      263        48  44.5\n",
      "2     Arizona     8.1      294        80  31.0\n",
      "3    Arkansas     8.8      190        50  19.5\n",
      "4  California     9.0      276        91  40.6\n"
     ]
    }
   ],
   "source": [
    "print(data.head())\n",
    "from sklearn.preprocessing import StandardScaler\n",
    "scal=StandardScaler()\n",
    "df=scal.fit_transform(df)"
   ]
  },
  {
   "cell_type": "markdown",
   "metadata": {},
   "source": [
    "Now that I have the data standarized, I will create the clusters. In order to do that, I firt need to know which is the ideal number of clusters, and I will be able to determine the number using the \"elbow method\". \n",
    "\n",
    "I will start aplying the function linkage. It will show us the two points that are closer, the distance that separes them and how many points will there be in the cluster if the clusters that these two points are part of, get unified. \n"
   ]
  },
  {
   "cell_type": "code",
   "execution_count": 10,
   "metadata": {},
   "outputs": [
    {
     "name": "stdout",
     "output_type": "stream",
     "text": [
      "[ 1  2  3  4  5  6  7  8  9 10]\n",
      "[ 2.26494204  2.74211395  3.02367873  3.0557353   3.24331037  3.5315419\n",
      "  3.77202625  6.52747083  7.26116776 13.6534666 ]\n"
     ]
    },
    {
     "data": {
      "image/png": "[encoded data removed]",
      "text/plain": [
       "<Figure size 432x288 with 1 Axes>"
      ]
     },
     "metadata": {
      "needs_background": "light"
     },
     "output_type": "display_data"
    }
   ],
   "source": [
    "from scipy.cluster.hierarchy import linkage\n",
    "\n",
    "Z = linkage(df,method=\"ward\") #I will define the method as \"ward\" just because of a personal preference. \n",
    "#I think that this is the most interesting method. \n",
    "\n",
    "\n",
    "#I will start by defining the variable \"last\" where I will put the last 10 values that I have obtained with the \"linkage\" function. \n",
    "#I take the last 10 numbers because the last unions are the ones that unify the most clusters, ans thus are the most important ones.\n",
    "\n",
    "last=Z[-10:,]\n",
    "\n",
    "\n",
    "#From the different features that the linkage function offers to us, I'm only interested in the 3rd column, since this is the \n",
    "#only that I need to develop the chart for the \"elbow method\".\n",
    "#In order to get the 3rd column I will use the following code: \n",
    "last=last[:,2]\n",
    "\n",
    "#now that I have the column that I'm interested in, I will turn it arround (just to make it easier to understand once I \n",
    "#create the graph)\n",
    "last_rev=last[::-1]\n",
    "\n",
    "idx=np.arange(1,len(last)+1)\n",
    "print(idx)\n",
    "print(last)\n",
    "plt.plot(idx,last_rev)\n",
    "plt.show()"
   ]
  },
  {
   "cell_type": "markdown",
   "metadata": {},
   "source": [
    "The graph shows two \"elbows\", one in 2 clusters and an other in 4 clusters.\n",
    "This plot shows that this are the two numbers of clusters that are considered \"optimal\".\n",
    "\n",
    "Normally what I would do in this kind of situations is to consider the specifications of the business to determine which number of clusters they prefere. However, in this case, the elbow that indicates 2 clusters, still have a lot of distance between the centroids of the cluster and the data. Because of that, I will choose to use 4 clusters. \n",
    "\n",
    "I will finish this case creating the clusters with \"KMeans\"."
   ]
  },
  {
   "cell_type": "code",
   "execution_count": 11,
   "metadata": {},
   "outputs": [
    {
     "name": "stdout",
     "output_type": "stream",
     "text": [
      "[1 3 3 1 3 3 0 0 3 1 0 2 3 0 2 0 2 1 2 3 0 3 2 1 3 2 2 3 2 0 3 3 1 2 0 0 0\n",
      " 0 0 1 2 1 3 0 2 0 0 2 2 0]\n",
      "[[-0.49440658 -0.3864845   0.58167593 -0.26431024]\n",
      " [ 1.42622412  0.88321132 -0.82279055  0.01946669]\n",
      " [-0.97130281 -1.11783581 -0.93954982 -0.97657842]\n",
      " [ 0.70212683  1.04999438  0.72997363  1.28990383]]\n"
     ]
    }
   ],
   "source": [
    "from sklearn.cluster import KMeans\n",
    "\n",
    "kmeans=KMeans(n_clusters=4,random_state=1) #I will create the model\n",
    "kmeans.fit(df)#and fit the data.\n",
    "print(kmeans.labels_) #Lastly I print the labels. This shows the number of cluster that every state will be in. \n",
    "\n",
    "print(kmeans.cluster_centers_) #I will also print the centroids of the different clusters.\n"
   ]
  },
  {
   "cell_type": "markdown",
   "metadata": {},
   "source": [
    "I will finish this case, identifying the different states that are in every cluster\n",
    "\n"
   ]
  },
  {
   "cell_type": "code",
   "execution_count": 12,
   "metadata": {},
   "outputs": [
    {
     "name": "stdout",
     "output_type": "stream",
     "text": [
      "\n",
      "\n",
      "\n",
      "-------one-------\n",
      "['Connecticut', 'Delaware', 'Hawaii', 'Indiana', 'Kansas', 'Massachusetts', 'New Jersey', 'Ohio', 'Oklahoma', 'Oregon', 'Pennsylvania', 'Rhode Island', 'Utah', 'Virginia', 'Washington', 'Wyoming']\n",
      "\n",
      "\n",
      "\n",
      "-------two-------\n",
      "['Alabama', 'Arkansas', 'Georgia', 'Louisiana', 'Mississippi', 'North Carolina', 'South Carolina', 'Tennessee']\n",
      "\n",
      "\n",
      "\n",
      "-------three-------\n",
      "['Idaho', 'Iowa', 'Kentucky', 'Maine', 'Minnesota', 'Montana', 'Nebraska', 'New Hampshire', 'North Dakota', 'South Dakota', 'Vermont', 'West Virginia', 'Wisconsin']\n",
      "\n",
      "\n",
      "\n",
      "-------four-------\n",
      "['Alaska', 'Arizona', 'California', 'Colorado', 'Florida', 'Illinois', 'Maryland', 'Michigan', 'Missouri', 'Nevada', 'New Mexico', 'New York', 'Texas']\n"
     ]
    }
   ],
   "source": [
    "one=[]\n",
    "two=[]\n",
    "three=[]\n",
    "four=[]\n",
    "\n",
    "\n",
    "for i,j in enumerate(kmeans.labels_): \n",
    "   \n",
    "    if j==0:\n",
    "        one.append(data.iloc[i,0])\n",
    "    if j==1: \n",
    "        two.append(data.iloc[i,0])\n",
    "    if j==2: \n",
    "        three.append(data.iloc[i,0])\n",
    "    if j==3: \n",
    "        four.append(data.iloc[i,0])\n",
    "\n",
    "        \n",
    "def sepa(name): \n",
    "\tprint(\"\\n\"*2)\n",
    "\treturn(\"-------{}-------\".format(name))\n",
    "\n",
    "print(sepa(\"one\"))\n",
    "print(one)\n",
    "print(sepa(\"two\"))\n",
    "print(two)\n",
    "print(sepa(\"three\"))\n",
    "print(three)\n",
    "print(sepa(\"four\"))\n",
    "print(four)"
   ]
  }
 ],
 "metadata": {
  "kernelspec": {
   "display_name": "Python 3",
   "language": "python",
   "name": "python3"
  },
  "language_info": {
   "codemirror_mode": {
    "name": "ipython",
    "version": 3
   },
   "file_extension": ".py",
   "mimetype": "text/x-python",
   "name": "python",
   "nbconvert_exporter": "python",
   "pygments_lexer": "ipython3",
   "version": "3.7.6"
  }
 },
 "nbformat": 4,
 "nbformat_minor": 4
}
